{
 "cells": [
  {
   "cell_type": "markdown",
   "metadata": {
    "slideshow": {
     "slide_type": "slide"
    }
   },
   "source": [
    "# Introdução ao pandas\n",
    "\n",
    "## [Anderson Berg](https://github.com/andersonberg/)\n",
    "\n",
    "Uma pequena introdução à biblioteca pandas para iniciantes e veteranos em data science"
   ]
  },
  {
   "cell_type": "markdown",
   "metadata": {
    "slideshow": {
     "slide_type": "slide"
    }
   },
   "source": [
    "## Antes de tudo vamos obter os dados."
   ]
  },
  {
   "cell_type": "code",
   "execution_count": 9,
   "metadata": {
    "slideshow": {
     "slide_type": "subslide"
    }
   },
   "outputs": [
    {
     "data": {
      "text/html": [
       "<div>\n",
       "<style>\n",
       "    .dataframe thead tr:only-child th {\n",
       "        text-align: right;\n",
       "    }\n",
       "\n",
       "    .dataframe thead th {\n",
       "        text-align: left;\n",
       "    }\n",
       "\n",
       "    .dataframe tbody tr th {\n",
       "        vertical-align: top;\n",
       "    }\n",
       "</style>\n",
       "<table border=\"1\" class=\"dataframe\">\n",
       "  <thead>\n",
       "    <tr style=\"text-align: right;\">\n",
       "      <th></th>\n",
       "      <th>Código do município</th>\n",
       "      <th>Nome do município</th>\n",
       "      <th>Total da população 2000</th>\n",
       "      <th>Total de homens</th>\n",
       "      <th>Total de mulheres</th>\n",
       "      <th>Total da população urbana</th>\n",
       "      <th>Total da população rural</th>\n",
       "      <th>Total da população 2010</th>\n",
       "    </tr>\n",
       "  </thead>\n",
       "  <tbody>\n",
       "    <tr>\n",
       "      <th>0</th>\n",
       "      <td>2600054</td>\n",
       "      <td>Abreu e Lima</td>\n",
       "      <td>89039.0</td>\n",
       "      <td>45165.0</td>\n",
       "      <td>49263.0</td>\n",
       "      <td>86589.0</td>\n",
       "      <td>7839.0</td>\n",
       "      <td>94428.0</td>\n",
       "    </tr>\n",
       "    <tr>\n",
       "      <th>1</th>\n",
       "      <td>2600104</td>\n",
       "      <td>Afogados da Ingazeira</td>\n",
       "      <td>32922.0</td>\n",
       "      <td>16790.0</td>\n",
       "      <td>18301.0</td>\n",
       "      <td>27406.0</td>\n",
       "      <td>7685.0</td>\n",
       "      <td>35091.0</td>\n",
       "    </tr>\n",
       "    <tr>\n",
       "      <th>2</th>\n",
       "      <td>2600203</td>\n",
       "      <td>Afrânio</td>\n",
       "      <td>15014.0</td>\n",
       "      <td>8751.0</td>\n",
       "      <td>8837.0</td>\n",
       "      <td>5859.0</td>\n",
       "      <td>11729.0</td>\n",
       "      <td>17588.0</td>\n",
       "    </tr>\n",
       "    <tr>\n",
       "      <th>3</th>\n",
       "      <td>2600302</td>\n",
       "      <td>Agrestina</td>\n",
       "      <td>20036.0</td>\n",
       "      <td>10938.0</td>\n",
       "      <td>11742.0</td>\n",
       "      <td>16955.0</td>\n",
       "      <td>5725.0</td>\n",
       "      <td>22680.0</td>\n",
       "    </tr>\n",
       "    <tr>\n",
       "      <th>4</th>\n",
       "      <td>2600401</td>\n",
       "      <td>Água Preta</td>\n",
       "      <td>28531.0</td>\n",
       "      <td>16581.0</td>\n",
       "      <td>16465.0</td>\n",
       "      <td>18708.0</td>\n",
       "      <td>14338.0</td>\n",
       "      <td>33046.0</td>\n",
       "    </tr>\n",
       "  </tbody>\n",
       "</table>\n",
       "</div>"
      ],
      "text/plain": [
       "  Código do município      Nome do município  Total da população 2000  \\\n",
       "0             2600054           Abreu e Lima                  89039.0   \n",
       "1             2600104  Afogados da Ingazeira                  32922.0   \n",
       "2             2600203                Afrânio                  15014.0   \n",
       "3             2600302              Agrestina                  20036.0   \n",
       "4             2600401             Água Preta                  28531.0   \n",
       "\n",
       "   Total de homens  Total de mulheres  Total da população urbana  \\\n",
       "0          45165.0            49263.0                    86589.0   \n",
       "1          16790.0            18301.0                    27406.0   \n",
       "2           8751.0             8837.0                     5859.0   \n",
       "3          10938.0            11742.0                    16955.0   \n",
       "4          16581.0            16465.0                    18708.0   \n",
       "\n",
       "   Total da população rural  Total da população 2010  \n",
       "0                    7839.0                  94428.0  \n",
       "1                    7685.0                  35091.0  \n",
       "2                   11729.0                  17588.0  \n",
       "3                    5725.0                  22680.0  \n",
       "4                   14338.0                  33046.0  "
      ]
     },
     "execution_count": 9,
     "metadata": {},
     "output_type": "execute_result"
    }
   ],
   "source": [
    "import pandas as pd\n",
    "df_pop = pd.read_excel(\"total_populacao_pernambuco.xls\")\n",
    "df_pop.head()"
   ]
  },
  {
   "cell_type": "markdown",
   "metadata": {
    "slideshow": {
     "slide_type": "slide"
    }
   },
   "source": [
    "### Podemos remover colunas"
   ]
  },
  {
   "cell_type": "code",
   "execution_count": 14,
   "metadata": {
    "slideshow": {
     "slide_type": "subslide"
    }
   },
   "outputs": [
    {
     "name": "stdout",
     "output_type": "stream",
     "text": [
      "<class 'pandas.core.series.Series'>\n",
      "<class 'pandas.core.series.Series'>\n"
     ]
    }
   ],
   "source": [
    "df_pop = df_pop.drop('Código do município', axis=1)\n",
    "df_pop = df_pop.drop(df_pop.columns[[3, 4, 5, 6]], axis=1)\n",
    "df_pop.head()"
   ]
  },
  {
   "cell_type": "markdown",
   "metadata": {
    "slideshow": {
     "slide_type": "slide"
    }
   },
   "source": [
    "### Renomear colunas é bem simples"
   ]
  },
  {
   "cell_type": "code",
   "execution_count": 38,
   "metadata": {
    "slideshow": {
     "slide_type": "subslide"
    }
   },
   "outputs": [
    {
     "data": {
      "text/html": [
       "<div>\n",
       "<table border=\"1\" class=\"dataframe\">\n",
       "  <thead>\n",
       "    <tr style=\"text-align: right;\">\n",
       "      <th></th>\n",
       "      <th>Nome do município</th>\n",
       "      <th>Total 2000</th>\n",
       "      <th>Total 2010</th>\n",
       "    </tr>\n",
       "  </thead>\n",
       "  <tbody>\n",
       "    <tr>\n",
       "      <th>0</th>\n",
       "      <td>Abreu e Lima</td>\n",
       "      <td>89039.0</td>\n",
       "      <td>94428.0</td>\n",
       "    </tr>\n",
       "    <tr>\n",
       "      <th>1</th>\n",
       "      <td>Afogados da Ingazeira</td>\n",
       "      <td>32922.0</td>\n",
       "      <td>35091.0</td>\n",
       "    </tr>\n",
       "    <tr>\n",
       "      <th>2</th>\n",
       "      <td>Afrânio</td>\n",
       "      <td>15014.0</td>\n",
       "      <td>17588.0</td>\n",
       "    </tr>\n",
       "    <tr>\n",
       "      <th>3</th>\n",
       "      <td>Agrestina</td>\n",
       "      <td>20036.0</td>\n",
       "      <td>22680.0</td>\n",
       "    </tr>\n",
       "    <tr>\n",
       "      <th>4</th>\n",
       "      <td>Água Preta</td>\n",
       "      <td>28531.0</td>\n",
       "      <td>33046.0</td>\n",
       "    </tr>\n",
       "  </tbody>\n",
       "</table>\n",
       "</div>"
      ],
      "text/plain": [
       "       Nome do município  Total 2000  Total 2010\n",
       "0           Abreu e Lima     89039.0     94428.0\n",
       "1  Afogados da Ingazeira     32922.0     35091.0\n",
       "2                Afrânio     15014.0     17588.0\n",
       "3              Agrestina     20036.0     22680.0\n",
       "4             Água Preta     28531.0     33046.0"
      ]
     },
     "execution_count": 38,
     "metadata": {},
     "output_type": "execute_result"
    }
   ],
   "source": [
    "df_pop.rename(columns={\"Total da população 2000\": \"Total 2000\", \"Total da população 2010\": \"Total 2010\"}, inplace=True)\n",
    "df_pop.head()"
   ]
  },
  {
   "cell_type": "markdown",
   "metadata": {
    "slideshow": {
     "slide_type": "slide"
    }
   },
   "source": [
    "### Algumas linhas podem conter células vazias"
   ]
  },
  {
   "cell_type": "code",
   "execution_count": 39,
   "metadata": {
    "slideshow": {
     "slide_type": "subslide"
    }
   },
   "outputs": [
    {
     "data": {
      "text/html": [
       "<div>\n",
       "<table border=\"1\" class=\"dataframe\">\n",
       "  <thead>\n",
       "    <tr style=\"text-align: right;\">\n",
       "      <th></th>\n",
       "      <th>Nome do município</th>\n",
       "      <th>Total 2000</th>\n",
       "      <th>Total 2010</th>\n",
       "    </tr>\n",
       "  </thead>\n",
       "  <tbody>\n",
       "    <tr>\n",
       "      <th>182</th>\n",
       "      <td>Vicência</td>\n",
       "      <td>28820.0</td>\n",
       "      <td>30731.0</td>\n",
       "    </tr>\n",
       "    <tr>\n",
       "      <th>183</th>\n",
       "      <td>Vitória de Santo Antão</td>\n",
       "      <td>117609.0</td>\n",
       "      <td>130540.0</td>\n",
       "    </tr>\n",
       "    <tr>\n",
       "      <th>184</th>\n",
       "      <td>Xexéu</td>\n",
       "      <td>13597.0</td>\n",
       "      <td>14092.0</td>\n",
       "    </tr>\n",
       "    <tr>\n",
       "      <th>185</th>\n",
       "      <td>Pernambuco</td>\n",
       "      <td>7918344.0</td>\n",
       "      <td>8796032.0</td>\n",
       "    </tr>\n",
       "    <tr>\n",
       "      <th>186</th>\n",
       "      <td>NaN</td>\n",
       "      <td>NaN</td>\n",
       "      <td>NaN</td>\n",
       "    </tr>\n",
       "  </tbody>\n",
       "</table>\n",
       "</div>"
      ],
      "text/plain": [
       "          Nome do município  Total 2000  Total 2010\n",
       "182                Vicência     28820.0     30731.0\n",
       "183  Vitória de Santo Antão    117609.0    130540.0\n",
       "184                   Xexéu     13597.0     14092.0\n",
       "185              Pernambuco   7918344.0   8796032.0\n",
       "186                     NaN         NaN         NaN"
      ]
     },
     "execution_count": 39,
     "metadata": {},
     "output_type": "execute_result"
    }
   ],
   "source": [
    "df_pop.tail()"
   ]
  },
  {
   "cell_type": "code",
   "execution_count": 40,
   "metadata": {
    "slideshow": {
     "slide_type": "subslide"
    }
   },
   "outputs": [
    {
     "data": {
      "text/html": [
       "<div>\n",
       "<table border=\"1\" class=\"dataframe\">\n",
       "  <thead>\n",
       "    <tr style=\"text-align: right;\">\n",
       "      <th></th>\n",
       "      <th>Nome do município</th>\n",
       "      <th>Total 2000</th>\n",
       "      <th>Total 2010</th>\n",
       "    </tr>\n",
       "  </thead>\n",
       "  <tbody>\n",
       "    <tr>\n",
       "      <th>181</th>\n",
       "      <td>Vertentes</td>\n",
       "      <td>14957.0</td>\n",
       "      <td>18267.0</td>\n",
       "    </tr>\n",
       "    <tr>\n",
       "      <th>182</th>\n",
       "      <td>Vicência</td>\n",
       "      <td>28820.0</td>\n",
       "      <td>30731.0</td>\n",
       "    </tr>\n",
       "    <tr>\n",
       "      <th>183</th>\n",
       "      <td>Vitória de Santo Antão</td>\n",
       "      <td>117609.0</td>\n",
       "      <td>130540.0</td>\n",
       "    </tr>\n",
       "    <tr>\n",
       "      <th>184</th>\n",
       "      <td>Xexéu</td>\n",
       "      <td>13597.0</td>\n",
       "      <td>14092.0</td>\n",
       "    </tr>\n",
       "    <tr>\n",
       "      <th>185</th>\n",
       "      <td>Pernambuco</td>\n",
       "      <td>7918344.0</td>\n",
       "      <td>8796032.0</td>\n",
       "    </tr>\n",
       "  </tbody>\n",
       "</table>\n",
       "</div>"
      ],
      "text/plain": [
       "          Nome do município  Total 2000  Total 2010\n",
       "181               Vertentes     14957.0     18267.0\n",
       "182                Vicência     28820.0     30731.0\n",
       "183  Vitória de Santo Antão    117609.0    130540.0\n",
       "184                   Xexéu     13597.0     14092.0\n",
       "185              Pernambuco   7918344.0   8796032.0"
      ]
     },
     "execution_count": 40,
     "metadata": {},
     "output_type": "execute_result"
    }
   ],
   "source": [
    "df_pop.dropna(axis=0, how='all', inplace=True)\n",
    "df_pop.tail()"
   ]
  },
  {
   "cell_type": "markdown",
   "metadata": {
    "collapsed": true,
    "slideshow": {
     "slide_type": "slide"
    }
   },
   "source": [
    "### Usamos a função map para modificar todos os elementos de uma coluna"
   ]
  },
  {
   "cell_type": "code",
   "execution_count": 41,
   "metadata": {
    "slideshow": {
     "slide_type": "subslide"
    }
   },
   "outputs": [
    {
     "data": {
      "text/html": [
       "<div>\n",
       "<table border=\"1\" class=\"dataframe\">\n",
       "  <thead>\n",
       "    <tr style=\"text-align: right;\">\n",
       "      <th></th>\n",
       "      <th>Nome do município</th>\n",
       "      <th>Total 2000</th>\n",
       "      <th>Total 2010</th>\n",
       "    </tr>\n",
       "  </thead>\n",
       "  <tbody>\n",
       "    <tr>\n",
       "      <th>0</th>\n",
       "      <td>Abreu e Lima</td>\n",
       "      <td>89039</td>\n",
       "      <td>94428</td>\n",
       "    </tr>\n",
       "    <tr>\n",
       "      <th>1</th>\n",
       "      <td>Afogados da Ingazeira</td>\n",
       "      <td>32922</td>\n",
       "      <td>35091</td>\n",
       "    </tr>\n",
       "    <tr>\n",
       "      <th>2</th>\n",
       "      <td>Afrânio</td>\n",
       "      <td>15014</td>\n",
       "      <td>17588</td>\n",
       "    </tr>\n",
       "    <tr>\n",
       "      <th>3</th>\n",
       "      <td>Agrestina</td>\n",
       "      <td>20036</td>\n",
       "      <td>22680</td>\n",
       "    </tr>\n",
       "    <tr>\n",
       "      <th>4</th>\n",
       "      <td>Água Preta</td>\n",
       "      <td>28531</td>\n",
       "      <td>33046</td>\n",
       "    </tr>\n",
       "  </tbody>\n",
       "</table>\n",
       "</div>"
      ],
      "text/plain": [
       "       Nome do município  Total 2000  Total 2010\n",
       "0           Abreu e Lima       89039       94428\n",
       "1  Afogados da Ingazeira       32922       35091\n",
       "2                Afrânio       15014       17588\n",
       "3              Agrestina       20036       22680\n",
       "4             Água Preta       28531       33046"
      ]
     },
     "execution_count": 41,
     "metadata": {},
     "output_type": "execute_result"
    }
   ],
   "source": [
    "df_pop[\"Total 2000\"] = df_pop[\"Total 2000\"].map(lambda x: int(x))\n",
    "df_pop[\"Total 2010\"] = df_pop[\"Total 2010\"].map(lambda x: int(x))\n",
    "df_pop.head()"
   ]
  },
  {
   "cell_type": "markdown",
   "metadata": {
    "slideshow": {
     "slide_type": "slide"
    }
   },
   "source": [
    "### Esses dados são das primárias das eleições nos Estados Unidos. O download pode ser feito aqui: [https://www.kaggle.com/benhamner/2016-us-election](https://www.kaggle.com/benhamner/2016-us-election)"
   ]
  },
  {
   "cell_type": "code",
   "execution_count": 42,
   "metadata": {
    "slideshow": {
     "slide_type": "subslide"
    }
   },
   "outputs": [
    {
     "data": {
      "text/html": [
       "<div>\n",
       "<table border=\"1\" class=\"dataframe\">\n",
       "  <thead>\n",
       "    <tr style=\"text-align: right;\">\n",
       "      <th></th>\n",
       "      <th>state</th>\n",
       "      <th>state_abbreviation</th>\n",
       "      <th>county</th>\n",
       "      <th>fips</th>\n",
       "      <th>party</th>\n",
       "      <th>candidate</th>\n",
       "      <th>votes</th>\n",
       "      <th>fraction_votes</th>\n",
       "    </tr>\n",
       "  </thead>\n",
       "  <tbody>\n",
       "    <tr>\n",
       "      <th>0</th>\n",
       "      <td>Alabama</td>\n",
       "      <td>AL</td>\n",
       "      <td>Autauga</td>\n",
       "      <td>1001.0</td>\n",
       "      <td>Democrat</td>\n",
       "      <td>Bernie Sanders</td>\n",
       "      <td>544</td>\n",
       "      <td>0.182</td>\n",
       "    </tr>\n",
       "    <tr>\n",
       "      <th>1</th>\n",
       "      <td>Alabama</td>\n",
       "      <td>AL</td>\n",
       "      <td>Autauga</td>\n",
       "      <td>1001.0</td>\n",
       "      <td>Democrat</td>\n",
       "      <td>Hillary Clinton</td>\n",
       "      <td>2387</td>\n",
       "      <td>0.800</td>\n",
       "    </tr>\n",
       "    <tr>\n",
       "      <th>2</th>\n",
       "      <td>Alabama</td>\n",
       "      <td>AL</td>\n",
       "      <td>Baldwin</td>\n",
       "      <td>1003.0</td>\n",
       "      <td>Democrat</td>\n",
       "      <td>Bernie Sanders</td>\n",
       "      <td>2694</td>\n",
       "      <td>0.329</td>\n",
       "    </tr>\n",
       "    <tr>\n",
       "      <th>3</th>\n",
       "      <td>Alabama</td>\n",
       "      <td>AL</td>\n",
       "      <td>Baldwin</td>\n",
       "      <td>1003.0</td>\n",
       "      <td>Democrat</td>\n",
       "      <td>Hillary Clinton</td>\n",
       "      <td>5290</td>\n",
       "      <td>0.647</td>\n",
       "    </tr>\n",
       "    <tr>\n",
       "      <th>4</th>\n",
       "      <td>Alabama</td>\n",
       "      <td>AL</td>\n",
       "      <td>Barbour</td>\n",
       "      <td>1005.0</td>\n",
       "      <td>Democrat</td>\n",
       "      <td>Bernie Sanders</td>\n",
       "      <td>222</td>\n",
       "      <td>0.078</td>\n",
       "    </tr>\n",
       "  </tbody>\n",
       "</table>\n",
       "</div>"
      ],
      "text/plain": [
       "     state state_abbreviation   county    fips     party        candidate  \\\n",
       "0  Alabama                 AL  Autauga  1001.0  Democrat   Bernie Sanders   \n",
       "1  Alabama                 AL  Autauga  1001.0  Democrat  Hillary Clinton   \n",
       "2  Alabama                 AL  Baldwin  1003.0  Democrat   Bernie Sanders   \n",
       "3  Alabama                 AL  Baldwin  1003.0  Democrat  Hillary Clinton   \n",
       "4  Alabama                 AL  Barbour  1005.0  Democrat   Bernie Sanders   \n",
       "\n",
       "   votes  fraction_votes  \n",
       "0    544           0.182  \n",
       "1   2387           0.800  \n",
       "2   2694           0.329  \n",
       "3   5290           0.647  \n",
       "4    222           0.078  "
      ]
     },
     "execution_count": 42,
     "metadata": {},
     "output_type": "execute_result"
    }
   ],
   "source": [
    "import pandas as pd\n",
    "import numpy as np\n",
    "election_data = pd.read_csv(\"primary_results.csv\", delimiter=',')\n",
    "election_data.head()"
   ]
  },
  {
   "cell_type": "markdown",
   "metadata": {
    "slideshow": {
     "slide_type": "slide"
    }
   },
   "source": [
    "## Qual foi o total de votos nas primárias?"
   ]
  },
  {
   "cell_type": "code",
   "execution_count": 43,
   "metadata": {
    "slideshow": {
     "slide_type": "subslide"
    }
   },
   "outputs": [
    {
     "data": {
      "text/plain": [
       "56759187"
      ]
     },
     "execution_count": 43,
     "metadata": {},
     "output_type": "execute_result"
    }
   ],
   "source": [
    "election_data['votes'].sum()"
   ]
  },
  {
   "cell_type": "markdown",
   "metadata": {
    "slideshow": {
     "slide_type": "slide"
    }
   },
   "source": [
    "## Quais candidatos disputaram as primárias?"
   ]
  },
  {
   "cell_type": "code",
   "execution_count": 44,
   "metadata": {
    "slideshow": {
     "slide_type": "subslide"
    }
   },
   "outputs": [
    {
     "name": "stdout",
     "output_type": "stream",
     "text": [
      "Bernie Sanders\n",
      "Hillary Clinton\n",
      "Ben Carson\n",
      "Donald Trump\n",
      "John Kasich\n",
      "Marco Rubio\n",
      "Ted Cruz\n",
      " Uncommitted\n",
      "Martin O'Malley\n",
      "Carly Fiorina\n",
      "Chris Christie\n",
      "Jeb Bush\n",
      "Mike Huckabee\n",
      "Rand Paul\n",
      "Rick Santorum\n",
      " No Preference\n"
     ]
    }
   ],
   "source": [
    "for candidate in election_data.candidate.unique():\n",
    "    print(candidate)"
   ]
  },
  {
   "cell_type": "markdown",
   "metadata": {
    "slideshow": {
     "slide_type": "slide"
    }
   },
   "source": [
    "## Qual foi o total de votos de cada candidato por estado?"
   ]
  },
  {
   "cell_type": "code",
   "execution_count": 45,
   "metadata": {
    "scrolled": true,
    "slideshow": {
     "slide_type": "subslide"
    }
   },
   "outputs": [
    {
     "data": {
      "text/html": [
       "<div>\n",
       "<table border=\"1\" class=\"dataframe\">\n",
       "  <thead>\n",
       "    <tr style=\"text-align: right;\">\n",
       "      <th></th>\n",
       "      <th></th>\n",
       "      <th></th>\n",
       "      <th>votes</th>\n",
       "    </tr>\n",
       "    <tr>\n",
       "      <th>state</th>\n",
       "      <th>party</th>\n",
       "      <th>candidate</th>\n",
       "      <th></th>\n",
       "    </tr>\n",
       "  </thead>\n",
       "  <tbody>\n",
       "    <tr>\n",
       "      <th rowspan=\"7\" valign=\"top\">Alabama</th>\n",
       "      <th rowspan=\"2\" valign=\"top\">Democrat</th>\n",
       "      <th>Bernie Sanders</th>\n",
       "      <td>76399</td>\n",
       "    </tr>\n",
       "    <tr>\n",
       "      <th>Hillary Clinton</th>\n",
       "      <td>309928</td>\n",
       "    </tr>\n",
       "    <tr>\n",
       "      <th rowspan=\"5\" valign=\"top\">Republican</th>\n",
       "      <th>Ben Carson</th>\n",
       "      <td>87517</td>\n",
       "    </tr>\n",
       "    <tr>\n",
       "      <th>Donald Trump</th>\n",
       "      <td>371735</td>\n",
       "    </tr>\n",
       "    <tr>\n",
       "      <th>John Kasich</th>\n",
       "      <td>37970</td>\n",
       "    </tr>\n",
       "    <tr>\n",
       "      <th>Marco Rubio</th>\n",
       "      <td>159802</td>\n",
       "    </tr>\n",
       "    <tr>\n",
       "      <th>Ted Cruz</th>\n",
       "      <td>180608</td>\n",
       "    </tr>\n",
       "    <tr>\n",
       "      <th rowspan=\"7\" valign=\"top\">Alaska</th>\n",
       "      <th rowspan=\"2\" valign=\"top\">Democrat</th>\n",
       "      <th>Bernie Sanders</th>\n",
       "      <td>440</td>\n",
       "    </tr>\n",
       "    <tr>\n",
       "      <th>Hillary Clinton</th>\n",
       "      <td>99</td>\n",
       "    </tr>\n",
       "    <tr>\n",
       "      <th rowspan=\"5\" valign=\"top\">Republican</th>\n",
       "      <th>Ben Carson</th>\n",
       "      <td>2401</td>\n",
       "    </tr>\n",
       "    <tr>\n",
       "      <th>Donald Trump</th>\n",
       "      <td>7346</td>\n",
       "    </tr>\n",
       "    <tr>\n",
       "      <th>John Kasich</th>\n",
       "      <td>892</td>\n",
       "    </tr>\n",
       "    <tr>\n",
       "      <th>Marco Rubio</th>\n",
       "      <td>3318</td>\n",
       "    </tr>\n",
       "    <tr>\n",
       "      <th>Ted Cruz</th>\n",
       "      <td>7973</td>\n",
       "    </tr>\n",
       "    <tr>\n",
       "      <th rowspan=\"5\" valign=\"top\">Arizona</th>\n",
       "      <th rowspan=\"2\" valign=\"top\">Democrat</th>\n",
       "      <th>Bernie Sanders</th>\n",
       "      <td>163400</td>\n",
       "    </tr>\n",
       "    <tr>\n",
       "      <th>Hillary Clinton</th>\n",
       "      <td>235697</td>\n",
       "    </tr>\n",
       "    <tr>\n",
       "      <th rowspan=\"3\" valign=\"top\">Republican</th>\n",
       "      <th>Donald Trump</th>\n",
       "      <td>249916</td>\n",
       "    </tr>\n",
       "    <tr>\n",
       "      <th>John Kasich</th>\n",
       "      <td>53040</td>\n",
       "    </tr>\n",
       "    <tr>\n",
       "      <th>Ted Cruz</th>\n",
       "      <td>132147</td>\n",
       "    </tr>\n",
       "    <tr>\n",
       "      <th rowspan=\"7\" valign=\"top\">Arkansas</th>\n",
       "      <th rowspan=\"2\" valign=\"top\">Democrat</th>\n",
       "      <th>Bernie Sanders</th>\n",
       "      <td>64868</td>\n",
       "    </tr>\n",
       "    <tr>\n",
       "      <th>Hillary Clinton</th>\n",
       "      <td>144580</td>\n",
       "    </tr>\n",
       "    <tr>\n",
       "      <th rowspan=\"5\" valign=\"top\">Republican</th>\n",
       "      <th>Ben Carson</th>\n",
       "      <td>23173</td>\n",
       "    </tr>\n",
       "    <tr>\n",
       "      <th>Donald Trump</th>\n",
       "      <td>133144</td>\n",
       "    </tr>\n",
       "    <tr>\n",
       "      <th>John Kasich</th>\n",
       "      <td>15098</td>\n",
       "    </tr>\n",
       "    <tr>\n",
       "      <th>Marco Rubio</th>\n",
       "      <td>101235</td>\n",
       "    </tr>\n",
       "    <tr>\n",
       "      <th>Ted Cruz</th>\n",
       "      <td>123873</td>\n",
       "    </tr>\n",
       "    <tr>\n",
       "      <th rowspan=\"4\" valign=\"top\">California</th>\n",
       "      <th rowspan=\"2\" valign=\"top\">Democrat</th>\n",
       "      <th>Bernie Sanders</th>\n",
       "      <td>1502043</td>\n",
       "    </tr>\n",
       "    <tr>\n",
       "      <th>Hillary Clinton</th>\n",
       "      <td>1940580</td>\n",
       "    </tr>\n",
       "    <tr>\n",
       "      <th rowspan=\"2\" valign=\"top\">Republican</th>\n",
       "      <th>Donald Trump</th>\n",
       "      <td>1174829</td>\n",
       "    </tr>\n",
       "    <tr>\n",
       "      <th>John Kasich</th>\n",
       "      <td>176620</td>\n",
       "    </tr>\n",
       "    <tr>\n",
       "      <th>...</th>\n",
       "      <th>...</th>\n",
       "      <th>...</th>\n",
       "      <td>...</td>\n",
       "    </tr>\n",
       "    <tr>\n",
       "      <th rowspan=\"2\" valign=\"top\">Vermont</th>\n",
       "      <th rowspan=\"2\" valign=\"top\">Republican</th>\n",
       "      <th>Marco Rubio</th>\n",
       "      <td>11778</td>\n",
       "    </tr>\n",
       "    <tr>\n",
       "      <th>Ted Cruz</th>\n",
       "      <td>5929</td>\n",
       "    </tr>\n",
       "    <tr>\n",
       "      <th rowspan=\"7\" valign=\"top\">Virginia</th>\n",
       "      <th rowspan=\"2\" valign=\"top\">Democrat</th>\n",
       "      <th>Bernie Sanders</th>\n",
       "      <td>275507</td>\n",
       "    </tr>\n",
       "    <tr>\n",
       "      <th>Hillary Clinton</th>\n",
       "      <td>503358</td>\n",
       "    </tr>\n",
       "    <tr>\n",
       "      <th rowspan=\"5\" valign=\"top\">Republican</th>\n",
       "      <th>Ben Carson</th>\n",
       "      <td>60093</td>\n",
       "    </tr>\n",
       "    <tr>\n",
       "      <th>Donald Trump</th>\n",
       "      <td>355960</td>\n",
       "    </tr>\n",
       "    <tr>\n",
       "      <th>John Kasich</th>\n",
       "      <td>96519</td>\n",
       "    </tr>\n",
       "    <tr>\n",
       "      <th>Marco Rubio</th>\n",
       "      <td>327042</td>\n",
       "    </tr>\n",
       "    <tr>\n",
       "      <th>Ted Cruz</th>\n",
       "      <td>173193</td>\n",
       "    </tr>\n",
       "    <tr>\n",
       "      <th rowspan=\"5\" valign=\"top\">Washington</th>\n",
       "      <th rowspan=\"2\" valign=\"top\">Democrat</th>\n",
       "      <th>Bernie Sanders</th>\n",
       "      <td>19159</td>\n",
       "    </tr>\n",
       "    <tr>\n",
       "      <th>Hillary Clinton</th>\n",
       "      <td>7140</td>\n",
       "    </tr>\n",
       "    <tr>\n",
       "      <th rowspan=\"3\" valign=\"top\">Republican</th>\n",
       "      <th>Donald Trump</th>\n",
       "      <td>403003</td>\n",
       "    </tr>\n",
       "    <tr>\n",
       "      <th>John Kasich</th>\n",
       "      <td>52129</td>\n",
       "    </tr>\n",
       "    <tr>\n",
       "      <th>Ted Cruz</th>\n",
       "      <td>55719</td>\n",
       "    </tr>\n",
       "    <tr>\n",
       "      <th rowspan=\"5\" valign=\"top\">West Virginia</th>\n",
       "      <th rowspan=\"2\" valign=\"top\">Democrat</th>\n",
       "      <th>Bernie Sanders</th>\n",
       "      <td>123860</td>\n",
       "    </tr>\n",
       "    <tr>\n",
       "      <th>Hillary Clinton</th>\n",
       "      <td>86354</td>\n",
       "    </tr>\n",
       "    <tr>\n",
       "      <th rowspan=\"3\" valign=\"top\">Republican</th>\n",
       "      <th>Donald Trump</th>\n",
       "      <td>156245</td>\n",
       "    </tr>\n",
       "    <tr>\n",
       "      <th>John Kasich</th>\n",
       "      <td>13685</td>\n",
       "    </tr>\n",
       "    <tr>\n",
       "      <th>Ted Cruz</th>\n",
       "      <td>18208</td>\n",
       "    </tr>\n",
       "    <tr>\n",
       "      <th rowspan=\"5\" valign=\"top\">Wisconsin</th>\n",
       "      <th rowspan=\"2\" valign=\"top\">Democrat</th>\n",
       "      <th>Bernie Sanders</th>\n",
       "      <td>567936</td>\n",
       "    </tr>\n",
       "    <tr>\n",
       "      <th>Hillary Clinton</th>\n",
       "      <td>432767</td>\n",
       "    </tr>\n",
       "    <tr>\n",
       "      <th rowspan=\"3\" valign=\"top\">Republican</th>\n",
       "      <th>Donald Trump</th>\n",
       "      <td>386370</td>\n",
       "    </tr>\n",
       "    <tr>\n",
       "      <th>John Kasich</th>\n",
       "      <td>155200</td>\n",
       "    </tr>\n",
       "    <tr>\n",
       "      <th>Ted Cruz</th>\n",
       "      <td>531129</td>\n",
       "    </tr>\n",
       "    <tr>\n",
       "      <th rowspan=\"6\" valign=\"top\">Wyoming</th>\n",
       "      <th rowspan=\"2\" valign=\"top\">Democrat</th>\n",
       "      <th>Bernie Sanders</th>\n",
       "      <td>156</td>\n",
       "    </tr>\n",
       "    <tr>\n",
       "      <th>Hillary Clinton</th>\n",
       "      <td>124</td>\n",
       "    </tr>\n",
       "    <tr>\n",
       "      <th rowspan=\"4\" valign=\"top\">Republican</th>\n",
       "      <th>Donald Trump</th>\n",
       "      <td>70</td>\n",
       "    </tr>\n",
       "    <tr>\n",
       "      <th>John Kasich</th>\n",
       "      <td>0</td>\n",
       "    </tr>\n",
       "    <tr>\n",
       "      <th>Marco Rubio</th>\n",
       "      <td>189</td>\n",
       "    </tr>\n",
       "    <tr>\n",
       "      <th>Ted Cruz</th>\n",
       "      <td>644</td>\n",
       "    </tr>\n",
       "  </tbody>\n",
       "</table>\n",
       "<p>290 rows × 1 columns</p>\n",
       "</div>"
      ],
      "text/plain": [
       "                                            votes\n",
       "state         party      candidate               \n",
       "Alabama       Democrat   Bernie Sanders     76399\n",
       "                         Hillary Clinton   309928\n",
       "              Republican Ben Carson         87517\n",
       "                         Donald Trump      371735\n",
       "                         John Kasich        37970\n",
       "                         Marco Rubio       159802\n",
       "                         Ted Cruz          180608\n",
       "Alaska        Democrat   Bernie Sanders       440\n",
       "                         Hillary Clinton       99\n",
       "              Republican Ben Carson          2401\n",
       "                         Donald Trump        7346\n",
       "                         John Kasich          892\n",
       "                         Marco Rubio         3318\n",
       "                         Ted Cruz            7973\n",
       "Arizona       Democrat   Bernie Sanders    163400\n",
       "                         Hillary Clinton   235697\n",
       "              Republican Donald Trump      249916\n",
       "                         John Kasich        53040\n",
       "                         Ted Cruz          132147\n",
       "Arkansas      Democrat   Bernie Sanders     64868\n",
       "                         Hillary Clinton   144580\n",
       "              Republican Ben Carson         23173\n",
       "                         Donald Trump      133144\n",
       "                         John Kasich        15098\n",
       "                         Marco Rubio       101235\n",
       "                         Ted Cruz          123873\n",
       "California    Democrat   Bernie Sanders   1502043\n",
       "                         Hillary Clinton  1940580\n",
       "              Republican Donald Trump     1174829\n",
       "                         John Kasich       176620\n",
       "...                                           ...\n",
       "Vermont       Republican Marco Rubio        11778\n",
       "                         Ted Cruz            5929\n",
       "Virginia      Democrat   Bernie Sanders    275507\n",
       "                         Hillary Clinton   503358\n",
       "              Republican Ben Carson         60093\n",
       "                         Donald Trump      355960\n",
       "                         John Kasich        96519\n",
       "                         Marco Rubio       327042\n",
       "                         Ted Cruz          173193\n",
       "Washington    Democrat   Bernie Sanders     19159\n",
       "                         Hillary Clinton     7140\n",
       "              Republican Donald Trump      403003\n",
       "                         John Kasich        52129\n",
       "                         Ted Cruz           55719\n",
       "West Virginia Democrat   Bernie Sanders    123860\n",
       "                         Hillary Clinton    86354\n",
       "              Republican Donald Trump      156245\n",
       "                         John Kasich        13685\n",
       "                         Ted Cruz           18208\n",
       "Wisconsin     Democrat   Bernie Sanders    567936\n",
       "                         Hillary Clinton   432767\n",
       "              Republican Donald Trump      386370\n",
       "                         John Kasich       155200\n",
       "                         Ted Cruz          531129\n",
       "Wyoming       Democrat   Bernie Sanders       156\n",
       "                         Hillary Clinton      124\n",
       "              Republican Donald Trump          70\n",
       "                         John Kasich            0\n",
       "                         Marco Rubio          189\n",
       "                         Ted Cruz             644\n",
       "\n",
       "[290 rows x 1 columns]"
      ]
     },
     "execution_count": 45,
     "metadata": {},
     "output_type": "execute_result"
    }
   ],
   "source": [
    "data_group = pd.pivot_table(election_data,index=[\"state\",\"party\",\"candidate\"],\n",
    "               values=[\"votes\"],\n",
    "               aggfunc={\"votes\": np.sum},fill_value=0)\n",
    "data_group"
   ]
  },
  {
   "cell_type": "code",
   "execution_count": 46,
   "metadata": {
    "slideshow": {
     "slide_type": "slide"
    }
   },
   "outputs": [
    {
     "data": {
      "text/html": [
       "<div>\n",
       "<table border=\"1\" class=\"dataframe\">\n",
       "  <thead>\n",
       "    <tr style=\"text-align: right;\">\n",
       "      <th></th>\n",
       "      <th>state</th>\n",
       "      <th>state_abbreviation</th>\n",
       "      <th>county</th>\n",
       "      <th>fips</th>\n",
       "      <th>party</th>\n",
       "      <th>candidate</th>\n",
       "      <th>votes</th>\n",
       "      <th>fraction_votes</th>\n",
       "      <th>Rank</th>\n",
       "    </tr>\n",
       "  </thead>\n",
       "  <tbody>\n",
       "    <tr>\n",
       "      <th>0</th>\n",
       "      <td>Alabama</td>\n",
       "      <td>AL</td>\n",
       "      <td>Autauga</td>\n",
       "      <td>1001.0</td>\n",
       "      <td>Democrat</td>\n",
       "      <td>Bernie Sanders</td>\n",
       "      <td>544</td>\n",
       "      <td>0.182</td>\n",
       "      <td>2.0</td>\n",
       "    </tr>\n",
       "    <tr>\n",
       "      <th>1</th>\n",
       "      <td>Alabama</td>\n",
       "      <td>AL</td>\n",
       "      <td>Autauga</td>\n",
       "      <td>1001.0</td>\n",
       "      <td>Democrat</td>\n",
       "      <td>Hillary Clinton</td>\n",
       "      <td>2387</td>\n",
       "      <td>0.800</td>\n",
       "      <td>1.0</td>\n",
       "    </tr>\n",
       "    <tr>\n",
       "      <th>134</th>\n",
       "      <td>Alabama</td>\n",
       "      <td>AL</td>\n",
       "      <td>Autauga</td>\n",
       "      <td>1001.0</td>\n",
       "      <td>Republican</td>\n",
       "      <td>Ben Carson</td>\n",
       "      <td>1764</td>\n",
       "      <td>0.146</td>\n",
       "      <td>4.0</td>\n",
       "    </tr>\n",
       "    <tr>\n",
       "      <th>135</th>\n",
       "      <td>Alabama</td>\n",
       "      <td>AL</td>\n",
       "      <td>Autauga</td>\n",
       "      <td>1001.0</td>\n",
       "      <td>Republican</td>\n",
       "      <td>Donald Trump</td>\n",
       "      <td>5387</td>\n",
       "      <td>0.445</td>\n",
       "      <td>1.0</td>\n",
       "    </tr>\n",
       "    <tr>\n",
       "      <th>136</th>\n",
       "      <td>Alabama</td>\n",
       "      <td>AL</td>\n",
       "      <td>Autauga</td>\n",
       "      <td>1001.0</td>\n",
       "      <td>Republican</td>\n",
       "      <td>John Kasich</td>\n",
       "      <td>421</td>\n",
       "      <td>0.035</td>\n",
       "      <td>5.0</td>\n",
       "    </tr>\n",
       "    <tr>\n",
       "      <th>137</th>\n",
       "      <td>Alabama</td>\n",
       "      <td>AL</td>\n",
       "      <td>Autauga</td>\n",
       "      <td>1001.0</td>\n",
       "      <td>Republican</td>\n",
       "      <td>Marco Rubio</td>\n",
       "      <td>1785</td>\n",
       "      <td>0.148</td>\n",
       "      <td>3.0</td>\n",
       "    </tr>\n",
       "    <tr>\n",
       "      <th>138</th>\n",
       "      <td>Alabama</td>\n",
       "      <td>AL</td>\n",
       "      <td>Autauga</td>\n",
       "      <td>1001.0</td>\n",
       "      <td>Republican</td>\n",
       "      <td>Ted Cruz</td>\n",
       "      <td>2482</td>\n",
       "      <td>0.205</td>\n",
       "      <td>2.0</td>\n",
       "    </tr>\n",
       "  </tbody>\n",
       "</table>\n",
       "</div>"
      ],
      "text/plain": [
       "       state state_abbreviation   county    fips       party        candidate  \\\n",
       "0    Alabama                 AL  Autauga  1001.0    Democrat   Bernie Sanders   \n",
       "1    Alabama                 AL  Autauga  1001.0    Democrat  Hillary Clinton   \n",
       "134  Alabama                 AL  Autauga  1001.0  Republican       Ben Carson   \n",
       "135  Alabama                 AL  Autauga  1001.0  Republican     Donald Trump   \n",
       "136  Alabama                 AL  Autauga  1001.0  Republican      John Kasich   \n",
       "137  Alabama                 AL  Autauga  1001.0  Republican      Marco Rubio   \n",
       "138  Alabama                 AL  Autauga  1001.0  Republican         Ted Cruz   \n",
       "\n",
       "     votes  fraction_votes  Rank  \n",
       "0      544           0.182   2.0  \n",
       "1     2387           0.800   1.0  \n",
       "134   1764           0.146   4.0  \n",
       "135   5387           0.445   1.0  \n",
       "136    421           0.035   5.0  \n",
       "137   1785           0.148   3.0  \n",
       "138   2482           0.205   2.0  "
      ]
     },
     "execution_count": 46,
     "metadata": {},
     "output_type": "execute_result"
    }
   ],
   "source": [
    "election_data['Rank'] = election_data.groupby(['county', 'party'])['votes'].rank(ascending=False)\n",
    "election_data[election_data['county']=='Autauga']"
   ]
  },
  {
   "cell_type": "code",
   "execution_count": 47,
   "metadata": {
    "slideshow": {
     "slide_type": "slide"
    }
   },
   "outputs": [
    {
     "data": {
      "text/html": [
       "<div>\n",
       "<table border=\"1\" class=\"dataframe\">\n",
       "  <thead>\n",
       "    <tr style=\"text-align: right;\">\n",
       "      <th></th>\n",
       "      <th></th>\n",
       "      <th></th>\n",
       "      <th>Rank</th>\n",
       "      <th>votes</th>\n",
       "    </tr>\n",
       "    <tr>\n",
       "      <th>state</th>\n",
       "      <th>party</th>\n",
       "      <th>candidate</th>\n",
       "      <th></th>\n",
       "      <th></th>\n",
       "    </tr>\n",
       "  </thead>\n",
       "  <tbody>\n",
       "    <tr>\n",
       "      <th rowspan=\"7\" valign=\"top\">Alabama</th>\n",
       "      <th rowspan=\"2\" valign=\"top\">Democrat</th>\n",
       "      <th>Bernie Sanders</th>\n",
       "      <td>2</td>\n",
       "      <td>76399</td>\n",
       "    </tr>\n",
       "    <tr>\n",
       "      <th>Hillary Clinton</th>\n",
       "      <td>1</td>\n",
       "      <td>309928</td>\n",
       "    </tr>\n",
       "    <tr>\n",
       "      <th rowspan=\"5\" valign=\"top\">Republican</th>\n",
       "      <th>Ben Carson</th>\n",
       "      <td>4</td>\n",
       "      <td>87517</td>\n",
       "    </tr>\n",
       "    <tr>\n",
       "      <th>Donald Trump</th>\n",
       "      <td>1</td>\n",
       "      <td>371735</td>\n",
       "    </tr>\n",
       "    <tr>\n",
       "      <th>John Kasich</th>\n",
       "      <td>5</td>\n",
       "      <td>37970</td>\n",
       "    </tr>\n",
       "    <tr>\n",
       "      <th>Marco Rubio</th>\n",
       "      <td>3</td>\n",
       "      <td>159802</td>\n",
       "    </tr>\n",
       "    <tr>\n",
       "      <th>Ted Cruz</th>\n",
       "      <td>2</td>\n",
       "      <td>180608</td>\n",
       "    </tr>\n",
       "    <tr>\n",
       "      <th rowspan=\"7\" valign=\"top\">Alaska</th>\n",
       "      <th rowspan=\"2\" valign=\"top\">Democrat</th>\n",
       "      <th>Bernie Sanders</th>\n",
       "      <td>1</td>\n",
       "      <td>440</td>\n",
       "    </tr>\n",
       "    <tr>\n",
       "      <th>Hillary Clinton</th>\n",
       "      <td>2</td>\n",
       "      <td>99</td>\n",
       "    </tr>\n",
       "    <tr>\n",
       "      <th rowspan=\"5\" valign=\"top\">Republican</th>\n",
       "      <th>Ben Carson</th>\n",
       "      <td>4</td>\n",
       "      <td>2401</td>\n",
       "    </tr>\n",
       "    <tr>\n",
       "      <th>Donald Trump</th>\n",
       "      <td>2</td>\n",
       "      <td>7346</td>\n",
       "    </tr>\n",
       "    <tr>\n",
       "      <th>John Kasich</th>\n",
       "      <td>5</td>\n",
       "      <td>892</td>\n",
       "    </tr>\n",
       "    <tr>\n",
       "      <th>Marco Rubio</th>\n",
       "      <td>3</td>\n",
       "      <td>3318</td>\n",
       "    </tr>\n",
       "    <tr>\n",
       "      <th>Ted Cruz</th>\n",
       "      <td>1</td>\n",
       "      <td>7973</td>\n",
       "    </tr>\n",
       "    <tr>\n",
       "      <th rowspan=\"5\" valign=\"top\">Arizona</th>\n",
       "      <th rowspan=\"2\" valign=\"top\">Democrat</th>\n",
       "      <th>Bernie Sanders</th>\n",
       "      <td>2</td>\n",
       "      <td>163400</td>\n",
       "    </tr>\n",
       "    <tr>\n",
       "      <th>Hillary Clinton</th>\n",
       "      <td>1</td>\n",
       "      <td>235697</td>\n",
       "    </tr>\n",
       "    <tr>\n",
       "      <th rowspan=\"3\" valign=\"top\">Republican</th>\n",
       "      <th>Donald Trump</th>\n",
       "      <td>1</td>\n",
       "      <td>249916</td>\n",
       "    </tr>\n",
       "    <tr>\n",
       "      <th>John Kasich</th>\n",
       "      <td>3</td>\n",
       "      <td>53040</td>\n",
       "    </tr>\n",
       "    <tr>\n",
       "      <th>Ted Cruz</th>\n",
       "      <td>2</td>\n",
       "      <td>132147</td>\n",
       "    </tr>\n",
       "    <tr>\n",
       "      <th rowspan=\"7\" valign=\"top\">Arkansas</th>\n",
       "      <th rowspan=\"2\" valign=\"top\">Democrat</th>\n",
       "      <th>Bernie Sanders</th>\n",
       "      <td>2</td>\n",
       "      <td>64868</td>\n",
       "    </tr>\n",
       "    <tr>\n",
       "      <th>Hillary Clinton</th>\n",
       "      <td>1</td>\n",
       "      <td>144580</td>\n",
       "    </tr>\n",
       "    <tr>\n",
       "      <th rowspan=\"5\" valign=\"top\">Republican</th>\n",
       "      <th>Ben Carson</th>\n",
       "      <td>4</td>\n",
       "      <td>23173</td>\n",
       "    </tr>\n",
       "    <tr>\n",
       "      <th>Donald Trump</th>\n",
       "      <td>1</td>\n",
       "      <td>133144</td>\n",
       "    </tr>\n",
       "    <tr>\n",
       "      <th>John Kasich</th>\n",
       "      <td>5</td>\n",
       "      <td>15098</td>\n",
       "    </tr>\n",
       "    <tr>\n",
       "      <th>Marco Rubio</th>\n",
       "      <td>3</td>\n",
       "      <td>101235</td>\n",
       "    </tr>\n",
       "    <tr>\n",
       "      <th>Ted Cruz</th>\n",
       "      <td>2</td>\n",
       "      <td>123873</td>\n",
       "    </tr>\n",
       "    <tr>\n",
       "      <th rowspan=\"4\" valign=\"top\">California</th>\n",
       "      <th rowspan=\"2\" valign=\"top\">Democrat</th>\n",
       "      <th>Bernie Sanders</th>\n",
       "      <td>2</td>\n",
       "      <td>1502043</td>\n",
       "    </tr>\n",
       "    <tr>\n",
       "      <th>Hillary Clinton</th>\n",
       "      <td>1</td>\n",
       "      <td>1940580</td>\n",
       "    </tr>\n",
       "    <tr>\n",
       "      <th rowspan=\"2\" valign=\"top\">Republican</th>\n",
       "      <th>Donald Trump</th>\n",
       "      <td>1</td>\n",
       "      <td>1174829</td>\n",
       "    </tr>\n",
       "    <tr>\n",
       "      <th>John Kasich</th>\n",
       "      <td>2</td>\n",
       "      <td>176620</td>\n",
       "    </tr>\n",
       "    <tr>\n",
       "      <th>...</th>\n",
       "      <th>...</th>\n",
       "      <th>...</th>\n",
       "      <td>...</td>\n",
       "      <td>...</td>\n",
       "    </tr>\n",
       "    <tr>\n",
       "      <th rowspan=\"2\" valign=\"top\">Vermont</th>\n",
       "      <th rowspan=\"2\" valign=\"top\">Republican</th>\n",
       "      <th>Marco Rubio</th>\n",
       "      <td>3</td>\n",
       "      <td>11778</td>\n",
       "    </tr>\n",
       "    <tr>\n",
       "      <th>Ted Cruz</th>\n",
       "      <td>4</td>\n",
       "      <td>5929</td>\n",
       "    </tr>\n",
       "    <tr>\n",
       "      <th rowspan=\"7\" valign=\"top\">Virginia</th>\n",
       "      <th rowspan=\"2\" valign=\"top\">Democrat</th>\n",
       "      <th>Bernie Sanders</th>\n",
       "      <td>2</td>\n",
       "      <td>275507</td>\n",
       "    </tr>\n",
       "    <tr>\n",
       "      <th>Hillary Clinton</th>\n",
       "      <td>1</td>\n",
       "      <td>503358</td>\n",
       "    </tr>\n",
       "    <tr>\n",
       "      <th rowspan=\"5\" valign=\"top\">Republican</th>\n",
       "      <th>Ben Carson</th>\n",
       "      <td>5</td>\n",
       "      <td>60093</td>\n",
       "    </tr>\n",
       "    <tr>\n",
       "      <th>Donald Trump</th>\n",
       "      <td>1</td>\n",
       "      <td>355960</td>\n",
       "    </tr>\n",
       "    <tr>\n",
       "      <th>John Kasich</th>\n",
       "      <td>4</td>\n",
       "      <td>96519</td>\n",
       "    </tr>\n",
       "    <tr>\n",
       "      <th>Marco Rubio</th>\n",
       "      <td>2</td>\n",
       "      <td>327042</td>\n",
       "    </tr>\n",
       "    <tr>\n",
       "      <th>Ted Cruz</th>\n",
       "      <td>3</td>\n",
       "      <td>173193</td>\n",
       "    </tr>\n",
       "    <tr>\n",
       "      <th rowspan=\"5\" valign=\"top\">Washington</th>\n",
       "      <th rowspan=\"2\" valign=\"top\">Democrat</th>\n",
       "      <th>Bernie Sanders</th>\n",
       "      <td>1</td>\n",
       "      <td>19159</td>\n",
       "    </tr>\n",
       "    <tr>\n",
       "      <th>Hillary Clinton</th>\n",
       "      <td>2</td>\n",
       "      <td>7140</td>\n",
       "    </tr>\n",
       "    <tr>\n",
       "      <th rowspan=\"3\" valign=\"top\">Republican</th>\n",
       "      <th>Donald Trump</th>\n",
       "      <td>1</td>\n",
       "      <td>403003</td>\n",
       "    </tr>\n",
       "    <tr>\n",
       "      <th>John Kasich</th>\n",
       "      <td>3</td>\n",
       "      <td>52129</td>\n",
       "    </tr>\n",
       "    <tr>\n",
       "      <th>Ted Cruz</th>\n",
       "      <td>2</td>\n",
       "      <td>55719</td>\n",
       "    </tr>\n",
       "    <tr>\n",
       "      <th rowspan=\"5\" valign=\"top\">West Virginia</th>\n",
       "      <th rowspan=\"2\" valign=\"top\">Democrat</th>\n",
       "      <th>Bernie Sanders</th>\n",
       "      <td>1</td>\n",
       "      <td>123860</td>\n",
       "    </tr>\n",
       "    <tr>\n",
       "      <th>Hillary Clinton</th>\n",
       "      <td>2</td>\n",
       "      <td>86354</td>\n",
       "    </tr>\n",
       "    <tr>\n",
       "      <th rowspan=\"3\" valign=\"top\">Republican</th>\n",
       "      <th>Donald Trump</th>\n",
       "      <td>1</td>\n",
       "      <td>156245</td>\n",
       "    </tr>\n",
       "    <tr>\n",
       "      <th>John Kasich</th>\n",
       "      <td>3</td>\n",
       "      <td>13685</td>\n",
       "    </tr>\n",
       "    <tr>\n",
       "      <th>Ted Cruz</th>\n",
       "      <td>2</td>\n",
       "      <td>18208</td>\n",
       "    </tr>\n",
       "    <tr>\n",
       "      <th rowspan=\"5\" valign=\"top\">Wisconsin</th>\n",
       "      <th rowspan=\"2\" valign=\"top\">Democrat</th>\n",
       "      <th>Bernie Sanders</th>\n",
       "      <td>1</td>\n",
       "      <td>567936</td>\n",
       "    </tr>\n",
       "    <tr>\n",
       "      <th>Hillary Clinton</th>\n",
       "      <td>2</td>\n",
       "      <td>432767</td>\n",
       "    </tr>\n",
       "    <tr>\n",
       "      <th rowspan=\"3\" valign=\"top\">Republican</th>\n",
       "      <th>Donald Trump</th>\n",
       "      <td>2</td>\n",
       "      <td>386370</td>\n",
       "    </tr>\n",
       "    <tr>\n",
       "      <th>John Kasich</th>\n",
       "      <td>3</td>\n",
       "      <td>155200</td>\n",
       "    </tr>\n",
       "    <tr>\n",
       "      <th>Ted Cruz</th>\n",
       "      <td>1</td>\n",
       "      <td>531129</td>\n",
       "    </tr>\n",
       "    <tr>\n",
       "      <th rowspan=\"6\" valign=\"top\">Wyoming</th>\n",
       "      <th rowspan=\"2\" valign=\"top\">Democrat</th>\n",
       "      <th>Bernie Sanders</th>\n",
       "      <td>1</td>\n",
       "      <td>156</td>\n",
       "    </tr>\n",
       "    <tr>\n",
       "      <th>Hillary Clinton</th>\n",
       "      <td>2</td>\n",
       "      <td>124</td>\n",
       "    </tr>\n",
       "    <tr>\n",
       "      <th rowspan=\"4\" valign=\"top\">Republican</th>\n",
       "      <th>Donald Trump</th>\n",
       "      <td>3</td>\n",
       "      <td>70</td>\n",
       "    </tr>\n",
       "    <tr>\n",
       "      <th>John Kasich</th>\n",
       "      <td>4</td>\n",
       "      <td>0</td>\n",
       "    </tr>\n",
       "    <tr>\n",
       "      <th>Marco Rubio</th>\n",
       "      <td>2</td>\n",
       "      <td>189</td>\n",
       "    </tr>\n",
       "    <tr>\n",
       "      <th>Ted Cruz</th>\n",
       "      <td>1</td>\n",
       "      <td>644</td>\n",
       "    </tr>\n",
       "  </tbody>\n",
       "</table>\n",
       "<p>290 rows × 2 columns</p>\n",
       "</div>"
      ],
      "text/plain": [
       "                                          Rank    votes\n",
       "state         party      candidate                     \n",
       "Alabama       Democrat   Bernie Sanders      2    76399\n",
       "                         Hillary Clinton     1   309928\n",
       "              Republican Ben Carson          4    87517\n",
       "                         Donald Trump        1   371735\n",
       "                         John Kasich         5    37970\n",
       "                         Marco Rubio         3   159802\n",
       "                         Ted Cruz            2   180608\n",
       "Alaska        Democrat   Bernie Sanders      1      440\n",
       "                         Hillary Clinton     2       99\n",
       "              Republican Ben Carson          4     2401\n",
       "                         Donald Trump        2     7346\n",
       "                         John Kasich         5      892\n",
       "                         Marco Rubio         3     3318\n",
       "                         Ted Cruz            1     7973\n",
       "Arizona       Democrat   Bernie Sanders      2   163400\n",
       "                         Hillary Clinton     1   235697\n",
       "              Republican Donald Trump        1   249916\n",
       "                         John Kasich         3    53040\n",
       "                         Ted Cruz            2   132147\n",
       "Arkansas      Democrat   Bernie Sanders      2    64868\n",
       "                         Hillary Clinton     1   144580\n",
       "              Republican Ben Carson          4    23173\n",
       "                         Donald Trump        1   133144\n",
       "                         John Kasich         5    15098\n",
       "                         Marco Rubio         3   101235\n",
       "                         Ted Cruz            2   123873\n",
       "California    Democrat   Bernie Sanders      2  1502043\n",
       "                         Hillary Clinton     1  1940580\n",
       "              Republican Donald Trump        1  1174829\n",
       "                         John Kasich         2   176620\n",
       "...                                        ...      ...\n",
       "Vermont       Republican Marco Rubio         3    11778\n",
       "                         Ted Cruz            4     5929\n",
       "Virginia      Democrat   Bernie Sanders      2   275507\n",
       "                         Hillary Clinton     1   503358\n",
       "              Republican Ben Carson          5    60093\n",
       "                         Donald Trump        1   355960\n",
       "                         John Kasich         4    96519\n",
       "                         Marco Rubio         2   327042\n",
       "                         Ted Cruz            3   173193\n",
       "Washington    Democrat   Bernie Sanders      1    19159\n",
       "                         Hillary Clinton     2     7140\n",
       "              Republican Donald Trump        1   403003\n",
       "                         John Kasich         3    52129\n",
       "                         Ted Cruz            2    55719\n",
       "West Virginia Democrat   Bernie Sanders      1   123860\n",
       "                         Hillary Clinton     2    86354\n",
       "              Republican Donald Trump        1   156245\n",
       "                         John Kasich         3    13685\n",
       "                         Ted Cruz            2    18208\n",
       "Wisconsin     Democrat   Bernie Sanders      1   567936\n",
       "                         Hillary Clinton     2   432767\n",
       "              Republican Donald Trump        2   386370\n",
       "                         John Kasich         3   155200\n",
       "                         Ted Cruz            1   531129\n",
       "Wyoming       Democrat   Bernie Sanders      1      156\n",
       "                         Hillary Clinton     2      124\n",
       "              Republican Donald Trump        3       70\n",
       "                         John Kasich         4        0\n",
       "                         Marco Rubio         2      189\n",
       "                         Ted Cruz            1      644\n",
       "\n",
       "[290 rows x 2 columns]"
      ]
     },
     "execution_count": 47,
     "metadata": {},
     "output_type": "execute_result"
    }
   ],
   "source": [
    "new_data = election_data.groupby(['state', 'party', 'candidate']).sum()\n",
    "new_data = new_data.reset_index()\n",
    "new_data['Rank'] = new_data.groupby(['state', 'party'])['votes'].rank(ascending=False)\n",
    "pivot_data = pd.pivot_table(new_data,index=[\"state\",\"party\",\"candidate\"],\n",
    "               values=[\"votes\", \"Rank\"],\n",
    "               fill_value=0)\n",
    "pivot_data"
   ]
  },
  {
   "cell_type": "code",
   "execution_count": 48,
   "metadata": {
    "slideshow": {
     "slide_type": "slide"
    }
   },
   "outputs": [
    {
     "data": {
      "text/plain": [
       "Donald Trump       36\n",
       "Hillary Clinton    28\n",
       "Bernie Sanders     21\n",
       "Ted Cruz            9\n",
       "John Kasich         1\n",
       "Name: candidate, dtype: int64"
      ]
     },
     "execution_count": 48,
     "metadata": {},
     "output_type": "execute_result"
    }
   ],
   "source": [
    "new_data[new_data['Rank'] == 1]['candidate'].value_counts()"
   ]
  },
  {
   "cell_type": "markdown",
   "metadata": {
    "slideshow": {
     "slide_type": "slide"
    }
   },
   "source": [
    "# Obrigado!"
   ]
  },
  {
   "cell_type": "markdown",
   "metadata": {
    "slideshow": {
     "slide_type": "slide"
    }
   },
   "source": [
    "## Alguns extras..."
   ]
  },
  {
   "cell_type": "markdown",
   "metadata": {
    "slideshow": {
     "slide_type": "slide"
    }
   },
   "source": [
    "### Podemos saber o tipo de dado em cada coluna"
   ]
  },
  {
   "cell_type": "code",
   "execution_count": 49,
   "metadata": {
    "slideshow": {
     "slide_type": "subslide"
    }
   },
   "outputs": [
    {
     "data": {
      "text/plain": [
       "Nome do município    object\n",
       "Total 2000            int64\n",
       "Total 2010            int64\n",
       "dtype: object"
      ]
     },
     "execution_count": 49,
     "metadata": {},
     "output_type": "execute_result"
    }
   ],
   "source": [
    "df_pop.dtypes"
   ]
  },
  {
   "cell_type": "markdown",
   "metadata": {
    "slideshow": {
     "slide_type": "slide"
    }
   },
   "source": [
    "### Ou acessar uma determinada linha"
   ]
  },
  {
   "cell_type": "code",
   "execution_count": 50,
   "metadata": {
    "slideshow": {
     "slide_type": "subslide"
    }
   },
   "outputs": [
    {
     "data": {
      "text/plain": [
       "Nome do município    Vertentes\n",
       "Total 2000               14957\n",
       "Total 2010               18267\n",
       "Name: 181, dtype: object"
      ]
     },
     "execution_count": 50,
     "metadata": {},
     "output_type": "execute_result"
    }
   ],
   "source": [
    "df_pop.loc[181]"
   ]
  },
  {
   "cell_type": "code",
   "execution_count": null,
   "metadata": {
    "collapsed": true,
    "slideshow": {
     "slide_type": "subslide"
    }
   },
   "outputs": [],
   "source": [
    "# converte string em datetime\n",
    "dataframe[col] = pd.to_datetime(dataframe[col], format='%d/%m/%y')\n",
    "\n",
    "# converte datetime em string\n",
    "df['data'] = df['data'].apply(lambda x: x.strftime('%d/%m/%Y'))\n",
    "\n",
    "# formata porcentagem\n",
    "df['taxa'] = pd.Series([\"{0:.2f}%\".format(val * 100) for val in df['taxa']], index=df.index)"
   ]
  },
  {
   "cell_type": "code",
   "execution_count": null,
   "metadata": {
    "collapsed": true,
    "slideshow": {
     "slide_type": "subslide"
    }
   },
   "outputs": [],
   "source": [
    "# salva em xlsx\n",
    "writer = pd.ExcelWriter('Relatório.xlsx')\n",
    "df.to_excel(writer, engine='io.excel.xlsx.writer')"
   ]
  },
  {
   "cell_type": "markdown",
   "metadata": {
    "slideshow": {
     "slide_type": "slide"
    }
   },
   "source": [
    "# Obrigado!"
   ]
  }
 ],
 "metadata": {
  "celltoolbar": "Slideshow",
  "kernelspec": {
   "display_name": "Python 3",
   "language": "python",
   "name": "python3"
  },
  "language_info": {
   "codemirror_mode": {
    "name": "ipython",
    "version": 3
   },
   "file_extension": ".py",
   "mimetype": "text/x-python",
   "name": "python",
   "nbconvert_exporter": "python",
   "pygments_lexer": "ipython3",
   "version": "3.5.2"
  }
 },
 "nbformat": 4,
 "nbformat_minor": 1
}
